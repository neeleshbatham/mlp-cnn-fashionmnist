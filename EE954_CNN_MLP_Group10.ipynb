{
  "cells": [
    {
      "cell_type": "markdown",
      "metadata": {
        "id": "FkBpCS-Xbh78"
      },
      "source": [
        "\n"
      ]
    },
    {
      "cell_type": "markdown",
      "metadata": {
        "id": "wOaoKdF857cB"
      },
      "source": [
        "# EE954: Assignment 1\n",
        "\n"
      ]
    },
    {
      "cell_type": "markdown",
      "metadata": {
        "id": "Qwf_bD33dwRn"
      },
      "source": [
        "                \n",
        "\n",
        "## Fashion-MNIST Classification using Custom MLP and CNN Models\n",
        "\n",
        "\n",
        "Authors Email:\n",
        "- Karan Arora: karanarora23@iitk.ac.in | Contribution: 25%\n",
        "- Neelesh Batham: neeleshb24@iitk.ac.in | Contribution: 25%\n",
        "- Advait Patwardhan: advaitmp24@iitk.ac.in | Contribution: 25%\n",
        "- Tony Varghese: tonyv23@iitk.ac.in | Contribution: 25%\n"
      ]
    },
    {
      "cell_type": "markdown",
      "metadata": {
        "id": "SPnqycnI3fWp"
      },
      "source": [
        "**Code Outline:**"
      ]
    },
    {
      "cell_type": "markdown",
      "metadata": {
        "id": "6d3t_cD9du9y"
      },
      "source": [
        "1. Preprocessing:\n",
        "  - Data Load\n",
        "  - Transform\n",
        "  - Split\n",
        "  - Data Loader\n",
        "\n",
        "\n",
        "2. MLP Model\n",
        "- Define Model\n",
        "- Cross Entropy Loss Define\n",
        "- Train and Evaluate\n",
        "\n",
        "3. CNN Model\n",
        "  - Define model\n",
        "  - Weights Init\n",
        "  - Train and Evaluate\n",
        "\n",
        "\n",
        "6. Evaluate on Test Data\n",
        "  - prediction\n",
        "  - metric evaluation ( CE on diffrent HP)\n",
        "\n"
      ]
    },
    {
      "cell_type": "markdown",
      "metadata": {
        "id": "DjLQyZPL4pGN"
      },
      "source": [
        "# **Dependencies Installation**\n",
        "\n",
        "### NOTE: Do not skip this step\n"
      ]
    },
    {
      "cell_type": "code",
      "execution_count": null,
      "metadata": {
        "colab": {
          "base_uri": "https://localhost:8080/"
        },
        "id": "AWIShh9ivM1p",
        "outputId": "7da3ce6f-687e-430c-8235-6ef08a1d0c48"
      },
      "outputs": [
        {
          "name": "stdout",
          "output_type": "stream",
          "text": [
            "torch is already installed.\n",
            "torchvision is already installed.\n",
            "matplotlib is already installed.\n",
            "numpy is already installed.\n",
            "seaborn is already installed.\n"
          ]
        }
      ],
      "source": [
        "# import the required packages\n",
        "required_packages = ['torch', 'torchvision', 'matplotlib', 'numpy', 'seaborn']\n",
        "\n",
        "for package in required_packages:\n",
        "    try:\n",
        "        __import__(package)\n",
        "        print(f\"{package} is already installed.\")\n",
        "    except ImportError:\n",
        "        print(f\"{package} not found. Installing...\")\n",
        "        !pip install {package}\n",
        "        globals()[package] = __import__(package)"
      ]
    },
    {
      "cell_type": "markdown",
      "metadata": {
        "id": "XWlUiw814_ya"
      },
      "source": [
        "## Preprocessing"
      ]
    },
    {
      "cell_type": "code",
      "execution_count": 1,
      "metadata": {
        "colab": {
          "base_uri": "https://localhost:8080/"
        },
        "id": "0xgXK42gX6oZ",
        "outputId": "0fc39f38-2e32-4280-f76b-2d149452154e"
      },
      "outputs": [
        {
          "output_type": "stream",
          "name": "stdout",
          "text": [
            "Downloading http://fashion-mnist.s3-website.eu-central-1.amazonaws.com/train-images-idx3-ubyte.gz\n",
            "Downloading http://fashion-mnist.s3-website.eu-central-1.amazonaws.com/train-images-idx3-ubyte.gz to data/FashionMNIST/raw/train-images-idx3-ubyte.gz\n"
          ]
        },
        {
          "output_type": "stream",
          "name": "stderr",
          "text": [
            "100%|██████████| 26.4M/26.4M [00:01<00:00, 15.9MB/s]\n"
          ]
        },
        {
          "output_type": "stream",
          "name": "stdout",
          "text": [
            "Extracting data/FashionMNIST/raw/train-images-idx3-ubyte.gz to data/FashionMNIST/raw\n",
            "\n",
            "Downloading http://fashion-mnist.s3-website.eu-central-1.amazonaws.com/train-labels-idx1-ubyte.gz\n",
            "Downloading http://fashion-mnist.s3-website.eu-central-1.amazonaws.com/train-labels-idx1-ubyte.gz to data/FashionMNIST/raw/train-labels-idx1-ubyte.gz\n"
          ]
        },
        {
          "output_type": "stream",
          "name": "stderr",
          "text": [
            "100%|██████████| 29.5k/29.5k [00:00<00:00, 269kB/s]\n"
          ]
        },
        {
          "output_type": "stream",
          "name": "stdout",
          "text": [
            "Extracting data/FashionMNIST/raw/train-labels-idx1-ubyte.gz to data/FashionMNIST/raw\n",
            "\n",
            "Downloading http://fashion-mnist.s3-website.eu-central-1.amazonaws.com/t10k-images-idx3-ubyte.gz\n",
            "Downloading http://fashion-mnist.s3-website.eu-central-1.amazonaws.com/t10k-images-idx3-ubyte.gz to data/FashionMNIST/raw/t10k-images-idx3-ubyte.gz\n"
          ]
        },
        {
          "output_type": "stream",
          "name": "stderr",
          "text": [
            "100%|██████████| 4.42M/4.42M [00:00<00:00, 4.98MB/s]\n"
          ]
        },
        {
          "output_type": "stream",
          "name": "stdout",
          "text": [
            "Extracting data/FashionMNIST/raw/t10k-images-idx3-ubyte.gz to data/FashionMNIST/raw\n",
            "\n",
            "Downloading http://fashion-mnist.s3-website.eu-central-1.amazonaws.com/t10k-labels-idx1-ubyte.gz\n",
            "Downloading http://fashion-mnist.s3-website.eu-central-1.amazonaws.com/t10k-labels-idx1-ubyte.gz to data/FashionMNIST/raw/t10k-labels-idx1-ubyte.gz\n"
          ]
        },
        {
          "output_type": "stream",
          "name": "stderr",
          "text": [
            "100%|██████████| 5.15k/5.15k [00:00<00:00, 9.40MB/s]"
          ]
        },
        {
          "output_type": "stream",
          "name": "stdout",
          "text": [
            "Extracting data/FashionMNIST/raw/t10k-labels-idx1-ubyte.gz to data/FashionMNIST/raw\n",
            "\n"
          ]
        },
        {
          "output_type": "stream",
          "name": "stderr",
          "text": [
            "\n"
          ]
        }
      ],
      "source": [
        "import matplotlib.pyplot as plt\n",
        "import numpy as np\n",
        "import torch\n",
        "from torch.utils.data import DataLoader, random_split\n",
        "from torchvision import datasets, transforms\n",
        "import torch.nn as nn\n",
        "import seaborn as sns\n",
        "\n",
        "\n",
        "#### PREPROCESSING ####\n",
        "\n",
        "#1. preprocess the Fashion-MNIST dataset\n",
        "\n",
        "transform = transforms.Compose([\n",
        "    transforms.ToTensor(),  # Converts images to PyTorch tensors and scales pixel values between 0 and 1\n",
        "    transforms.Lambda(lambda x: x.view(-1))  # flattens the images into 1D vectors\n",
        "])\n",
        "\n",
        "train_dataset_full = datasets.FashionMNIST(\n",
        "    root='data',\n",
        "    train=True,\n",
        "    download=True,\n",
        "    transform=transform\n",
        ")\n",
        "\n",
        "test_dataset = datasets.FashionMNIST(\n",
        "    root='data',\n",
        "    train=False,\n",
        "    download=True,\n",
        "    transform=transform\n",
        ")\n",
        "\n",
        "## Split the training dataset into training and validation sets 80% train and 20% validation.\n",
        "\n",
        "train_size = int(0.8 * len(train_dataset_full))\n",
        "val_size = len(train_dataset_full) - train_size\n",
        "train_dataset, val_dataset = random_split(train_dataset_full, [train_size, val_size])\n",
        "\n",
        "## Create data loaders\n",
        "batch_size = 64\n",
        "train_loader = DataLoader(train_dataset, batch_size=batch_size, shuffle=True)\n",
        "val_loader = DataLoader(val_dataset, batch_size=batch_size, shuffle=False)\n",
        "test_loader = DataLoader(test_dataset, batch_size=batch_size, shuffle=False)\n"
      ]
    },
    {
      "cell_type": "markdown",
      "metadata": {
        "id": "Cz70Ohvs5D4Q"
      },
      "source": [
        "## MLP Model"
      ]
    },
    {
      "cell_type": "code",
      "execution_count": 2,
      "metadata": {
        "id": "tcb_odhSX60n"
      },
      "outputs": [],
      "source": [
        "#2 #### MODEL for Classfication #####\n",
        "\n",
        "# forward pass from scratch\n",
        "\n",
        "class LinearLayer:\n",
        "    def __init__(self, input_dim, output_dim):\n",
        "        self.weight = torch.randn(input_dim, output_dim) * 0.01\n",
        "        self.bias = torch.zeros(output_dim)\n",
        "\n",
        "        # ensure parameters do not require gradients\n",
        "        self.weight.requires_grad = False\n",
        "        self.bias.requires_grad = False\n",
        "\n",
        "        # gradients\n",
        "        self.d_weight = torch.zeros_like(self.weight)\n",
        "        self.d_bias = torch.zeros_like(self.bias)\n",
        "\n",
        "    def forward(self, x):\n",
        "        self.x = x  # save input for backward pass\n",
        "        return x @ self.weight + self.bias\n",
        "\n",
        "    def backward(self, grad_output):\n",
        "        # gradient as per weights and biases\n",
        "        self.d_weight = self.x.t() @ grad_output\n",
        "        self.d_bias = grad_output.sum(0)\n",
        "        # gradient as per inputs\n",
        "        grad_input = grad_output @ self.weight.t()\n",
        "        return grad_input\n",
        "\n",
        "class ReLU:\n",
        "\n",
        "    def forward(self, x):\n",
        "        self.x = x\n",
        "        return torch.clamp(x, min=0)\n",
        "\n",
        "    def backward(self, grad_output):\n",
        "        grad_input = grad_output.clone()\n",
        "        grad_input[self.x <= 0] = 0\n",
        "        return grad_input\n",
        "\n",
        "# module for cross-entropy loss\n",
        "\n",
        "def cross_entropy_loss(logits, labels):\n",
        "    max_logits = torch.max(logits, dim=1, keepdim=True)[0]\n",
        "    logits = logits - max_logits  # For numerical stability\n",
        "    # Softmax value\n",
        "    exp_logits = torch.exp(logits)\n",
        "    sum_exp_logits = torch.sum(exp_logits, dim=1, keepdim=True)\n",
        "    softmax = exp_logits / sum_exp_logits\n",
        "    # Loss calculation\n",
        "    batch_size = logits.shape[0]\n",
        "    log_probs = -torch.log(softmax[range(batch_size), labels])\n",
        "    loss = torch.sum(log_probs) / batch_size\n",
        "    # gradient  as per logits\n",
        "    num_classes = logits.size(1)\n",
        "    # creating new tensor\n",
        "    one_hot_labels = torch.zeros(batch_size, num_classes, device=logits.device)\n",
        "    one_hot_labels.scatter_(1, labels.unsqueeze(1), 1)\n",
        "    grad_output = (softmax - one_hot_labels) / batch_size\n",
        "    return loss, grad_output\n",
        "\n",
        "\n",
        "class MLP:\n",
        "    def __init__(self, input_dim, hidden_dims, output_dim):\n",
        "\n",
        "        self.layers = []\n",
        "        prev_dim = input_dim\n",
        "        for h_dim in hidden_dims:\n",
        "            self.layers.append(LinearLayer(prev_dim, h_dim))\n",
        "            self.layers.append(ReLU())\n",
        "            prev_dim = h_dim\n",
        "\n",
        "        self.layers.append(LinearLayer(prev_dim, output_dim))\n",
        "\n",
        "    def forward(self, x):\n",
        "        for layer in self.layers:\n",
        "            x = layer.forward(x)\n",
        "        return x  # logits\n",
        "\n",
        "    def backward(self, grad_output):\n",
        "        for layer in reversed(self.layers):\n",
        "            grad_output = layer.backward(grad_output)\n",
        "\n",
        "    def zero_grad(self):\n",
        "        for layer in self.layers:\n",
        "            if isinstance(layer, LinearLayer):\n",
        "                layer.d_weight.zero_()\n",
        "                layer.d_bias.zero_()\n"
      ]
    },
    {
      "cell_type": "markdown",
      "metadata": {
        "id": "zJZNQt0K5JOm"
      },
      "source": [
        "## Train and Evaluate MLP Model"
      ]
    },
    {
      "cell_type": "code",
      "execution_count": 3,
      "metadata": {
        "colab": {
          "base_uri": "https://localhost:8080/"
        },
        "id": "d-x2JbC9X67b",
        "outputId": "d2388d5f-9ecb-4031-84c0-590de933b8cf"
      },
      "outputs": [
        {
          "output_type": "stream",
          "name": "stdout",
          "text": [
            "Training MLP Model:\n",
            "Epoch [1/10], Loss: 2.2987, Accuracy: 19.07%, Val Loss: 2.2883, Val Accuracy: 16.45%\n",
            "Epoch [2/10], Loss: 1.9875, Accuracy: 26.14%, Val Loss: 1.4237, Val Accuracy: 44.73%\n",
            "Epoch [3/10], Loss: 1.1878, Accuracy: 53.06%, Val Loss: 1.0118, Val Accuracy: 59.87%\n",
            "Epoch [4/10], Loss: 0.9250, Accuracy: 64.57%, Val Loss: 0.8471, Val Accuracy: 67.92%\n",
            "Epoch [5/10], Loss: 0.8345, Accuracy: 68.65%, Val Loss: 0.7904, Val Accuracy: 71.00%\n",
            "Epoch [6/10], Loss: 0.7728, Accuracy: 71.69%, Val Loss: 0.7423, Val Accuracy: 73.53%\n",
            "Epoch [7/10], Loss: 0.7093, Accuracy: 74.05%, Val Loss: 0.6545, Val Accuracy: 76.80%\n",
            "Epoch [8/10], Loss: 0.6538, Accuracy: 76.47%, Val Loss: 0.6110, Val Accuracy: 78.14%\n",
            "Epoch [9/10], Loss: 0.6160, Accuracy: 77.93%, Val Loss: 0.5861, Val Accuracy: 79.54%\n",
            "Epoch [10/10], Loss: 0.5919, Accuracy: 78.96%, Val Loss: 0.5736, Val Accuracy: 79.60%\n",
            "\n",
            "Total Training Time for MLP Model: 81.50 seconds\n"
          ]
        }
      ],
      "source": [
        "# 3.Train and evaluate with HP\n",
        "\n",
        "import time\n",
        "\n",
        "# experiments with different hyperparameters\n",
        "\n",
        "input_dim = 28 * 28\n",
        "hidden_dims = [256, 128]\n",
        "output_dim = 10  # Number of classes in Fashion-MNIST\n",
        "model = MLP(input_dim, hidden_dims, output_dim)\n",
        "\n",
        "# Training  the MLP\n",
        "num_epochs = 10\n",
        "learning_rate = 0.01\n",
        "\n",
        "\n",
        "def evaluate(model, data_loader):\n",
        "    total_loss = 0\n",
        "    correct = 0\n",
        "    total = 0\n",
        "    with torch.no_grad():\n",
        "        for images, labels in data_loader:\n",
        "            outputs = model.forward(images)\n",
        "            loss, _ = cross_entropy_loss(outputs, labels)\n",
        "            predictions = torch.argmax(outputs, dim=1)\n",
        "            correct += (predictions == labels).sum().item()\n",
        "            total += labels.size(0)\n",
        "            total_loss += loss.item()\n",
        "    avg_loss = total_loss / len(data_loader)\n",
        "    accuracy = correct / total\n",
        "    return avg_loss, accuracy\n",
        "\n",
        "\n",
        "print(\"Training MLP Model:\")\n",
        "\n",
        "mlp_start_time = time.time()\n",
        "\n",
        "train_accuracies = []\n",
        "train_losses = []\n",
        "val_accuracies = []\n",
        "val_losses = []\n",
        "epochs= []\n",
        "\n",
        "for epoch in range(num_epochs):\n",
        "\n",
        "    # training\n",
        "    total_loss = 0\n",
        "    correct = 0\n",
        "    total = 0\n",
        "\n",
        "    for images, labels in train_loader:\n",
        "        outputs = model.forward(images)\n",
        "        loss, grad_output = cross_entropy_loss(outputs, labels)\n",
        "        model.zero_grad()\n",
        "        model.backward(grad_output)\n",
        "\n",
        "        # update weights\n",
        "\n",
        "        for layer in model.layers:\n",
        "            if isinstance(layer, LinearLayer):\n",
        "                layer.weight -= learning_rate * layer.d_weight\n",
        "                layer.bias -= learning_rate * layer.d_bias\n",
        "\n",
        "        # accuracy\n",
        "        predictions = torch.argmax(outputs, dim=1)\n",
        "        correct += (predictions == labels).sum().item()\n",
        "        total += labels.size(0)\n",
        "        total_loss += loss.item()\n",
        "\n",
        "    avg_loss = total_loss / len(train_loader)\n",
        "    accuracy = correct / total\n",
        "    val_loss, val_accuracy = evaluate(model, val_loader)\n",
        "\n",
        "    train_accuracies.append(accuracy)\n",
        "    train_losses.append(avg_loss)\n",
        "    val_accuracies.append(val_accuracy)\n",
        "    val_losses.append(val_loss)\n",
        "    epochs.append(epoch+1)\n",
        "\n",
        "    print(f'Epoch [{epoch+1}/{num_epochs}], Loss: {avg_loss:.4f}, Accuracy: {accuracy*100:.2f}%, '\n",
        "          f'Val Loss: {val_loss:.4f}, Val Accuracy: {val_accuracy*100:.2f}%')\n",
        "\n",
        "mlp_end_time = time.time()\n",
        "mlp_training_time = mlp_end_time - mlp_start_time  # Total training time\n",
        "print(f\"\\nTotal Training Time for MLP Model: {mlp_training_time:.2f} seconds\")\n"
      ]
    },
    {
      "cell_type": "code",
      "execution_count": 4,
      "metadata": {
        "colab": {
          "base_uri": "https://localhost:8080/",
          "height": 441
        },
        "id": "h-CXoG1iizXg",
        "outputId": "4f6a8585-c9b3-4da0-c3a3-49674a176f72"
      },
      "outputs": [
        {
          "output_type": "display_data",
          "data": {
            "text/plain": [
              "<Figure size 1400x500 with 2 Axes>"
            ],
            "image/png": "[encoded data removed]"
          },
          "metadata": {}
        }
      ],
      "source": [
        "# Plots for MLP accuracy and Loss\n",
        "\n",
        "plt.figure(figsize=(14, 5))\n",
        "\n",
        "plt.subplot(1, 2, 1)\n",
        "sns.lineplot(x=epochs, y=train_accuracies, color='orange', label='Training Accuracy')\n",
        "sns.lineplot(x=epochs, y=val_accuracies, color='blue', label='Validation Accuracy')\n",
        "plt.legend(title=\"Accuracy\")\n",
        "plt.xlabel(\"Epochs\", fontsize=12)\n",
        "plt.ylabel(\"Accuracy\", fontsize=12)\n",
        "plt.xticks(epochs)\n",
        "\n",
        "plt.subplot(1, 2, 2)\n",
        "sns.lineplot(x=epochs, y=val_losses, color='red', label=\"Training Loss\")\n",
        "sns.lineplot(x=epochs, y=train_losses, color='black', label=\"Validation Loss\")\n",
        "plt.legend(title=\"Loss Type\")\n",
        "plt.xlabel(\"Epochs\", fontsize=12)\n",
        "plt.ylabel(\"Loss\", fontsize=12)\n",
        "plt.xticks(epochs)\n",
        "plt.show()"
      ]
    },
    {
      "cell_type": "markdown",
      "metadata": {
        "id": "eqZSTMqB0-te"
      },
      "source": [
        "## **Evaluate on Test DataSet**"
      ]
    },
    {
      "cell_type": "code",
      "execution_count": 5,
      "metadata": {
        "colab": {
          "base_uri": "https://localhost:8080/"
        },
        "id": "NV6-Mw2e1Cd0",
        "outputId": "6fc6d884-d82f-4cc6-dbec-d6815f03eee5"
      },
      "outputs": [
        {
          "output_type": "stream",
          "name": "stdout",
          "text": [
            "Test Loss: 0.6024, Test Accuracy: 78.53%\n"
          ]
        }
      ],
      "source": [
        "def evaluate_mlp_test_dataset(model, data_loader):\n",
        "    total_loss = 0\n",
        "    correct = 0\n",
        "    total = 0\n",
        "    with torch.no_grad():\n",
        "        for images, labels in data_loader:\n",
        "            outputs = model.forward(images)\n",
        "            loss, _ = cross_entropy_loss(outputs, labels)\n",
        "            predictions = torch.argmax(outputs, dim=1)\n",
        "            correct += (predictions == labels).sum().item()\n",
        "            total += labels.size(0)\n",
        "            total_loss += loss.item()\n",
        "    avg_loss = total_loss / len(data_loader)\n",
        "    accuracy = correct / total\n",
        "    return avg_loss, accuracy\n",
        "\n",
        "test_loss, test_accuracy = evaluate_mlp_test_dataset(model, test_loader)\n",
        "print(f'Test Loss: {test_loss:.4f}, Test Accuracy: {test_accuracy * 100:.2f}%')"
      ]
    },
    {
      "cell_type": "markdown",
      "metadata": {
        "id": "BZs_u6PN1UXJ"
      },
      "source": [
        "# **CNN Model**"
      ]
    },
    {
      "cell_type": "code",
      "execution_count": 6,
      "metadata": {
        "colab": {
          "base_uri": "https://localhost:8080/"
        },
        "id": "-S-X91MBX6-O",
        "outputId": "b5e253a4-5d94-4f01-b880-4467f0d5b833"
      },
      "outputs": [
        {
          "output_type": "stream",
          "name": "stdout",
          "text": [
            "\n",
            "Training CNN Model:\n",
            "Epoch [1/10], Loss: 0.4746, Accuracy: 82.70%, Val Loss: 0.3119, Val Accuracy: 88.29%\n",
            "Epoch Time: 67.49712920188904\n",
            "Epoch [2/10], Loss: 0.2774, Accuracy: 89.78%, Val Loss: 0.2709, Val Accuracy: 90.13%\n",
            "Epoch Time: 136.48802089691162\n",
            "Epoch [3/10], Loss: 0.2294, Accuracy: 91.60%, Val Loss: 0.2716, Val Accuracy: 90.23%\n",
            "Epoch Time: 205.83112835884094\n",
            "Epoch [4/10], Loss: 0.1961, Accuracy: 92.73%, Val Loss: 0.2334, Val Accuracy: 92.02%\n",
            "Epoch Time: 274.94171047210693\n",
            "Epoch [5/10], Loss: 0.1687, Accuracy: 93.68%, Val Loss: 0.2344, Val Accuracy: 92.22%\n",
            "Epoch Time: 343.28707098960876\n",
            "Epoch [6/10], Loss: 0.1426, Accuracy: 94.75%, Val Loss: 0.2269, Val Accuracy: 92.44%\n",
            "Epoch Time: 412.2936005592346\n",
            "Epoch [7/10], Loss: 0.1183, Accuracy: 95.52%, Val Loss: 0.2561, Val Accuracy: 91.83%\n",
            "Epoch Time: 481.2934591770172\n",
            "Epoch [8/10], Loss: 0.1005, Accuracy: 96.22%, Val Loss: 0.2374, Val Accuracy: 92.52%\n",
            "Epoch Time: 550.4521598815918\n",
            "Epoch [9/10], Loss: 0.0808, Accuracy: 97.01%, Val Loss: 0.2989, Val Accuracy: 91.72%\n",
            "Epoch Time: 620.6043207645416\n",
            "Epoch [10/10], Loss: 0.0673, Accuracy: 97.42%, Val Loss: 0.2728, Val Accuracy: 92.67%\n",
            "Epoch Time: 689.0271220207214\n",
            "\n",
            "Total Training Time for MLP Model: 81.50 seconds\n"
          ]
        }
      ],
      "source": [
        "# Step 3: Implement a CNN backbone model using PyTorch\n",
        "\n",
        "#  CNN model 5 convolution layers\n",
        "class CNN(nn.Module):\n",
        "    def __init__(self):\n",
        "        super(CNN, self).__init__()\n",
        "\n",
        "        self.features = nn.Sequential(\n",
        "            nn.Conv2d(1, 32, kernel_size=3, padding=1),  # Input channels = 1 (grayscale), output channels = 32\n",
        "            nn.ReLU(),\n",
        "            nn.MaxPool2d(kernel_size=2),                 # Output: (32,14, 14)\n",
        "            nn.Conv2d(32, 64, kernel_size=3, padding=1), # Output channels =64\n",
        "            nn.ReLU(),\n",
        "            nn.MaxPool2d(kernel_size=2),                 # Output: (64, 7,7)\n",
        "            nn.Conv2d(64, 128, kernel_size=3, padding=1),# Output channels= 128\n",
        "            nn.ReLU(),\n",
        "            nn.Conv2d(128, 256, kernel_size=3, padding=1),# Output channels= 256\n",
        "            nn.ReLU(),\n",
        "            nn.Conv2d(256, 512, kernel_size=3, padding=1),# Output channels= 512\n",
        "            nn.ReLU(),\n",
        "            nn.MaxPool2d(kernel_size=2)                  # Output: (512, 3, 3)\n",
        "        )\n",
        "        # compute the flattened size after convolutional layers\n",
        "        with torch.no_grad():\n",
        "            x = torch.randn(1, 1, 28, 28)\n",
        "            x = self.features(x)\n",
        "            self._to_linear = x.view(1, -1).size(1)\n",
        "\n",
        "        # initialize  MLP classifier\n",
        "        self.classifier = MLP(self._to_linear, [256], 10)\n",
        "\n",
        "    def forward(self, x):\n",
        "        x = self.features(x)\n",
        "        x = x.view(x.size(0), -1)\n",
        "        x = self.classifier.forward(x)\n",
        "        return x\n",
        "\n",
        "\n",
        "# TODO: Experiment with different kernel sizes and number of kernels\n",
        "\n",
        "\n",
        "# different weight initialization methods.\n",
        "def initialize_weights(model, init_type='he'):\n",
        "    for m in model.modules():\n",
        "        if isinstance(m, nn.Conv2d):\n",
        "            if init_type == 'xavier':\n",
        "                nn.init.xavier_uniform_(m.weight)\n",
        "            elif init_type == 'he':\n",
        "                nn.init.kaiming_uniform_(m.weight, nonlinearity='relu')\n",
        "            elif init_type == 'random':\n",
        "                nn.init.uniform_(m.weight)\n",
        "            if m.bias is not None:\n",
        "                nn.init.constant_(m.bias, 0)\n",
        "\n",
        "cnn_model = CNN()\n",
        "initialize_weights(cnn_model, init_type='he')\n",
        "\n",
        "optimizer = torch.optim.Adam(cnn_model.parameters(), lr=0.001)\n",
        "\n",
        "cnn_transform = transforms.Compose([\n",
        "    transforms.ToTensor(),  # images as 2D tensors\n",
        "])\n",
        "\n",
        "# Reload datasets with the new transform\n",
        "train_dataset_full_cnn = datasets.FashionMNIST(\n",
        "    root='data',\n",
        "    train=True,\n",
        "    download=True,\n",
        "    transform=cnn_transform\n",
        ")\n",
        "\n",
        "test_dataset_cnn = datasets.FashionMNIST(\n",
        "    root='data',\n",
        "    train=False,\n",
        "    download=True,\n",
        "    transform=cnn_transform\n",
        ")\n",
        "\n",
        "train_dataset_cnn, val_dataset_cnn = random_split(train_dataset_full_cnn, [train_size, val_size])\n",
        "\n",
        "train_loader_cnn = DataLoader(train_dataset_cnn, batch_size=batch_size, shuffle=True)\n",
        "val_loader_cnn = DataLoader(val_dataset_cnn, batch_size=batch_size, shuffle=False)\n",
        "test_loader_cnn = DataLoader(test_dataset_cnn, batch_size=batch_size, shuffle=False)\n",
        "\n",
        "\n",
        "# training CNN model\n",
        "def evaluate_cnn(model, data_loader):\n",
        "    total_loss = 0\n",
        "    correct = 0\n",
        "    total = 0\n",
        "    with torch.no_grad():\n",
        "        for images, labels in data_loader:\n",
        "            outputs = model(images)\n",
        "            loss, _ = cross_entropy_loss(outputs, labels)\n",
        "            predictions = torch.argmax(outputs, dim=1)\n",
        "            correct += (predictions == labels).sum().item()\n",
        "            total += labels.size(0)\n",
        "            total_loss += loss.item()\n",
        "    avg_loss = total_loss / len(data_loader)\n",
        "    accuracy = correct / total\n",
        "    return avg_loss, accuracy\n",
        "\n",
        "\n",
        "print(\"\\nTraining CNN Model:\")\n",
        "\n",
        "cnn_start_time = time.time()\n",
        "\n",
        "num_epochs = 10\n",
        "learning_rate = 0.01\n",
        "train_accuracies = []\n",
        "train_losses = []\n",
        "val_accuracies = []\n",
        "val_losses = []\n",
        "epochs= []\n",
        "\n",
        "for epoch in range(num_epochs):\n",
        "    cnn_model.train()\n",
        "    total_loss = 0\n",
        "    correct = 0\n",
        "    total = 0\n",
        "    for images, labels in train_loader_cnn:\n",
        "        # zero the gradients for CNN parameters\n",
        "\n",
        "        optimizer.zero_grad()\n",
        "\n",
        "        # forward pass through CNN & MLP\n",
        "        outputs = cnn_model(images)\n",
        "\n",
        "        # calculate loss and gradient as pe output\n",
        "        loss, grad_output = cross_entropy_loss(outputs, labels)\n",
        "\n",
        "        cnn_model.classifier.zero_grad()\n",
        "        cnn_model.classifier.backward(grad_output)\n",
        "\n",
        "        loss.backward()\n",
        "\n",
        "        optimizer.step()\n",
        "\n",
        "        with torch.no_grad():\n",
        "            for layer in cnn_model.classifier.layers:\n",
        "                if isinstance(layer, LinearLayer):\n",
        "                    layer.weight -= learning_rate * layer.d_weight\n",
        "                    layer.bias -= learning_rate * layer.d_bias\n",
        "\n",
        "        # Compute accuracy\n",
        "        predictions = torch.argmax(outputs, dim=1)\n",
        "        correct += (predictions == labels).sum().item()\n",
        "        total += labels.size(0)\n",
        "        total_loss += loss.item()\n",
        "\n",
        "    avg_loss = total_loss / len(train_loader_cnn)\n",
        "    accuracy = correct / total\n",
        "    val_loss, val_accuracy = evaluate_cnn(cnn_model, val_loader_cnn)\n",
        "\n",
        "    train_accuracies.append(accuracy)\n",
        "    train_losses.append(avg_loss)\n",
        "    val_accuracies.append(val_accuracy)\n",
        "    val_losses.append(val_loss)\n",
        "    epochs.append(epoch+1)\n",
        "\n",
        "    print(f'Epoch [{epoch+1}/{num_epochs}], Loss: {avg_loss:.4f}, '\n",
        "          f'Accuracy: {accuracy*100:.2f}%, Val Loss: {val_loss:.4f}, '\n",
        "          f'Val Accuracy: {val_accuracy*100:.2f}%')\n",
        "    epoch_time = time.time()\n",
        "    print(f\"Epoch Time: {epoch_time-cnn_start_time}\")\n",
        "\n",
        "cnn_model_end_time = time.time()\n",
        "cnn_training_time = cnn_model_end_time - cnn_start_time  # Total training time\n",
        "print(f\"\\nTotal Training Time for CNN Model: {cnn_training_time:.2f} seconds\")"
      ]
    },
    {
      "cell_type": "code",
      "execution_count": 7,
      "metadata": {
        "colab": {
          "base_uri": "https://localhost:8080/",
          "height": 440
        },
        "id": "FdceJz4nX7BF",
        "outputId": "0ad76338-82f9-4b46-f55b-845b4868634e"
      },
      "outputs": [
        {
          "output_type": "display_data",
          "data": {
            "text/plain": [
              "<Figure size 1400x500 with 2 Axes>"
            ],
            "image/png": "[encoded data removed]"
          },
          "metadata": {}
        }
      ],
      "source": [
        "# Plots for CNN accuracy and Loss\n",
        "\n",
        "plt.figure(figsize=(14, 5))\n",
        "\n",
        "plt.subplot(1, 2, 1)\n",
        "sns.lineplot(x=epochs, y=train_accuracies, color='orange', label='Training Accuracy')\n",
        "sns.lineplot(x=epochs, y=val_accuracies, color='blue', label='Validation Accuracy')\n",
        "plt.legend(title=\"Accuracy\")\n",
        "plt.xlabel(\"Epochs\", fontsize=12)\n",
        "plt.ylabel(\"Accuracy\", fontsize=12)\n",
        "plt.xticks(epochs)\n",
        "\n",
        "plt.subplot(1, 2, 2)\n",
        "sns.lineplot(x=epochs, y=val_losses, color='red', label=\"Training Loss\")\n",
        "sns.lineplot(x=epochs, y=train_losses, color='black', label=\"Validation Loss\")\n",
        "plt.legend(title=\"Loss Type\")\n",
        "plt.xlabel(\"Epochs\", fontsize=12)\n",
        "plt.ylabel(\"Loss\", fontsize=12)\n",
        "plt.xticks(epochs)\n",
        "plt.show()"
      ]
    },
    {
      "cell_type": "markdown",
      "metadata": {
        "id": "5ramVuDp0nBT"
      },
      "source": [
        "### **Evaluate CNN Test Dataset**"
      ]
    },
    {
      "cell_type": "code",
      "execution_count": 8,
      "metadata": {
        "colab": {
          "base_uri": "https://localhost:8080/"
        },
        "id": "N3gVzPLd0q5R",
        "outputId": "128f486e-b0cb-473f-a1ed-6336c0b2276d"
      },
      "outputs": [
        {
          "output_type": "stream",
          "name": "stdout",
          "text": [
            "Test Loss: 0.3002, Test Accuracy: 91.81%\n"
          ]
        }
      ],
      "source": [
        "def evaluate_cnn_test_dataset(model, data_loader):\n",
        "    total_loss = 0\n",
        "    correct = 0\n",
        "    total = 0\n",
        "    with torch.no_grad():\n",
        "        for images, labels in data_loader:\n",
        "            outputs = model(images)\n",
        "            loss, _ = cross_entropy_loss(outputs, labels)\n",
        "            predictions = torch.argmax(outputs, dim=1)\n",
        "            correct += (predictions == labels).sum().item()\n",
        "            total += labels.size(0)\n",
        "            total_loss += loss.item()\n",
        "    avg_loss = total_loss / len(data_loader)\n",
        "    accuracy = correct / total\n",
        "    return avg_loss, accuracy\n",
        "\n",
        "test_loss, test_accuracy = evaluate_cnn_test_dataset(cnn_model, test_loader_cnn)\n",
        "print(f'Test Loss: {test_loss:.4f}, Test Accuracy: {test_accuracy * 100:.2f}%')"
      ]
    }
  ],
  "metadata": {
    "accelerator": "GPU",
    "colab": {
      "gpuType": "A100",
      "provenance": [],
      "machine_shape": "hm"
    },
    "kernelspec": {
      "display_name": "Python 3",
      "name": "python3"
    },
    "language_info": {
      "name": "python"
    }
  },
  "nbformat": 4,
  "nbformat_minor": 0
}